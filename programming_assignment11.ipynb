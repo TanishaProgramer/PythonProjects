{
 "cells": [
  {
   "cell_type": "raw",
   "metadata": {},
   "source": [
    "1. Write a Python program to find words which are greater than given length k?\n",
    "2. Write a Python program for removing i-th character from a string?\n",
    "3. Write a Python program to split and join a string?\n",
    "4. Write a Python to check if a given string is binary string or not?\n",
    "5. Write a Python program to find uncommon words from two Strings?\n",
    "6. Write a Python to find all duplicate characters in string?\n",
    "7. Write a Python Program to check if a string contains any special character?"
   ]
  },
  {
   "cell_type": "code",
   "execution_count": 141,
   "metadata": {},
   "outputs": [
    {
     "name": "stdout",
     "output_type": "stream",
     "text": [
      "['l', 'l', 'o', 'n', 'u', 'r', 'o', 'n', 't', 's', 's', 'm', 'n', 'n', 'l', 't', 's', 't', 'w', 'o', 'r', 's', 't', 't', 'r', 'r', 't', 'r', 't', 'n']\n"
     ]
    }
   ],
   "source": [
    "string  = 'hello ineuron this side aman and lets check the words that are greater than K'\n",
    "sr = []\n",
    "for i in string:\n",
    "    if i>'k':\n",
    "        sr.append(i)\n",
    "print(sr)"
   ]
  },
  {
   "cell_type": "code",
   "execution_count": 143,
   "metadata": {},
   "outputs": [
    {
     "name": "stdout",
     "output_type": "stream",
     "text": [
      "['h', 'e', 'l', 'l', 'o', ' ', 'n', 'e', 'u', 'r', 'o', 'n', ' ', 't', 'h', 's', ' ', 's', 'd', 'e', ' ', 'a', 'm', 'a', 'n', ' ', 'a', 'n', 'd', ' ', 'l', 'e', 't', 's', ' ', 'c', 'h', 'e', 'c', 'k', ' ', 't', 'h', 'e', ' ', 'w', 'o', 'r', 'd', 's', ' ', 't', 'h', 'a', 't', ' ', 'a', 'r', 'e', ' ', 'g', 'r', 'e', 'a', 't', 'e', 'r', ' ', 't', 'h', 'a', 'n', ' ', 'K']\n"
     ]
    }
   ],
   "source": [
    "string  = 'hello ineuron this side aman and lets check the words that are greater than K'\n",
    "sr = []\n",
    "for i in string:\n",
    "    if i!='i':\n",
    "        sr.append(i)\n",
    "        \n",
    "print(sr)"
   ]
  },
  {
   "cell_type": "code",
   "execution_count": 155,
   "metadata": {},
   "outputs": [
    {
     "name": "stdout",
     "output_type": "stream",
     "text": [
      "['hello', 'ineuron', 'this', 'side', 'aman', 'and', 'lets', 'check', 'the', 'words', 'that', 'are', 'greater', 'than', 'K', '-']\n",
      "h e l l o   i n e u r o n   t h i s   s i d e   a m a n   a n d   l e t s   c h e c k   t h e   w o r d s   t h a t   a r e   g r e a t e r   t h a n   K   -  \n"
     ]
    }
   ],
   "source": [
    "string  = 'hello ineuron this side aman and lets check the words that are greater than K - '\n",
    "print(string.split())\n",
    "print(' '.join(string))"
   ]
  },
  {
   "cell_type": "code",
   "execution_count": 184,
   "metadata": {},
   "outputs": [
    {
     "name": "stdout",
     "output_type": "stream",
     "text": [
      "yes binary is there\n"
     ]
    }
   ],
   "source": [
    "stri = \"0101001101\"\n",
    "stri1 = []\n",
    "for i in stri:\n",
    "    if i=='0'or i=='1':\n",
    "        print('yes binary is there')\n",
    "        break\n",
    "        \n",
    "    else:\n",
    "        print('No there is no binary')\n",
    "        break\n",
    "    \n",
    "\n",
    "        \n",
    "    \n"
   ]
  },
  {
   "cell_type": "code",
   "execution_count": 223,
   "metadata": {},
   "outputs": [
    {
     "data": {
      "text/plain": [
       "['myself', 'aman', 'lets', 'match', 'the', 'words']"
      ]
     },
     "execution_count": 223,
     "metadata": {},
     "output_type": "execute_result"
    }
   ],
   "source": [
    "string = 'hello ineuron myself aman'\n",
    "string1 = 'hello ineuron lets match the words'\n",
    "str1 = {}\n",
    "def found(a,b):\n",
    "    a = string.split()\n",
    "    b = string1.split()\n",
    "\n",
    "    for i in a:\n",
    "        str1[i] = str1.get(i, 0)+1\n",
    "    for i in b:\n",
    "        str1[i] = str1.get(i, 0) +1\n",
    "    return [i for i in str1 if str1[i] == 1]\n",
    "\n",
    "found(string,string1)\n"
   ]
  },
  {
   "cell_type": "code",
   "execution_count": 242,
   "metadata": {},
   "outputs": [
    {
     "name": "stdout",
     "output_type": "stream",
     "text": [
      "h e l o   n r t s\n"
     ]
    }
   ],
   "source": [
    "string1 = 'hello ineuron lets match the words'\n",
    "def duplicate(a):\n",
    "    n = []\n",
    "    for i in a:\n",
    "        if i not in n and a.count(i)>1:\n",
    "            n.append(i)\n",
    "    print(\" \".join(n))\n",
    "duplicate(string1)\n",
    "    "
   ]
  },
  {
   "cell_type": "code",
   "execution_count": 257,
   "metadata": {},
   "outputs": [
    {
     "name": "stdout",
     "output_type": "stream",
     "text": [
      "[]\n"
     ]
    }
   ],
   "source": [
    "import re\n",
    "string1 = 'hello ineuron lets match the words##$'\n",
    "res = re.findall((string1),'([^a-zA-Z]+)')\n",
    "print(res)\n",
    "\n"
   ]
  },
  {
   "cell_type": "code",
   "execution_count": 267,
   "metadata": {},
   "outputs": [
    {
     "name": "stdout",
     "output_type": "stream",
     "text": [
      "no\n"
     ]
    }
   ],
   "source": [
    "string1 = 'hello ineuron lets match the words'\n",
    "c = set(string1)\n",
    "for i in c:\n",
    "    if i==('##$'):\n",
    "        print('yes')\n",
    "        break\n",
    "    else:\n",
    "        print('no')\n",
    "        break"
   ]
  },
  {
   "cell_type": "code",
   "execution_count": null,
   "metadata": {},
   "outputs": [],
   "source": []
  }
 ],
 "metadata": {
  "kernelspec": {
   "display_name": "Python 3",
   "language": "python",
   "name": "python3"
  },
  "language_info": {
   "codemirror_mode": {
    "name": "ipython",
    "version": 3
   },
   "file_extension": ".py",
   "mimetype": "text/x-python",
   "name": "python",
   "nbconvert_exporter": "python",
   "pygments_lexer": "ipython3",
   "version": "3.8.5"
  }
 },
 "nbformat": 4,
 "nbformat_minor": 4
}
