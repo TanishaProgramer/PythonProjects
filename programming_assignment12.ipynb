{
 "cells": [
  {
   "cell_type": "raw",
   "metadata": {},
   "source": [
    "1. Write a Python program to Extract Unique values dictionary values?\n",
    "2. Write a Python program to find the sum of all items in a dictionary?\n",
    "3. Write a Python program to Merging two Dictionaries?\n",
    "4. Write a Python program to convert key-values list to flat dictionary?\n",
    "5. Write a Python program to insertion at the beginning in OrderedDict?\n",
    "6. Write a Python program to check order of character in string using OrderedDict()?\n",
    "7. Write a Python program to sort Python Dictionaries by Key or Value?"
   ]
  },
  {
   "cell_type": "code",
   "execution_count": 288,
   "metadata": {},
   "outputs": [
    {
     "name": "stdout",
     "output_type": "stream",
     "text": [
      "['mango', 'apple', 'banana', 'grapes']\n"
     ]
    }
   ],
   "source": [
    "d = {1:'mango',2:'apple',3:'banana',4:'grapes',5:'mango',6:'apple',7:'banana',8:'grapes'}\n",
    "n = []\n",
    "a = d.values()\n",
    "for i in a:\n",
    "    if i not in n:\n",
    "        n.append(i)\n",
    "print(n)"
   ]
  },
  {
   "cell_type": "code",
   "execution_count": 289,
   "metadata": {},
   "outputs": [
    {
     "name": "stdout",
     "output_type": "stream",
     "text": [
      "8\n"
     ]
    }
   ],
   "source": [
    "d = {1:'mango',2:'apple',3:'banana',4:'grapes',5:'mango',6:'apple',7:'banana',8:'grapes'}\n",
    "print(len(d))"
   ]
  },
  {
   "cell_type": "code",
   "execution_count": 295,
   "metadata": {},
   "outputs": [
    {
     "name": "stdout",
     "output_type": "stream",
     "text": [
      "{1: 'mango', 2: 'apple', 3: 'banana', 4: 'grapes', 5: 'mango', 6: 'apple', 7: 'banana', 8: 'grapes', 9: 'banana', 10: 'grapes'}\n"
     ]
    }
   ],
   "source": [
    "d = {1:'mango',2:'apple',3:'banana',4:'grapes',5:'mango',6:'apple',7:'banana',8:'grapes'}\n",
    "d1 = {9:'banana',10:'grapes'}\n",
    "d.update(d1)\n",
    "print(d)\n"
   ]
  },
  {
   "cell_type": "code",
   "execution_count": 299,
   "metadata": {},
   "outputs": [
    {
     "name": "stdout",
     "output_type": "stream",
     "text": [
      "{1: 'Jan', 2: 'Feb', 3: 'March'}\n"
     ]
    }
   ],
   "source": [
    "\n",
    "test_dict = {'month' : [1, 2, 3],'name' : ['Jan', 'Feb', 'March']}\n",
    "x=list(test_dict.values())\n",
    "a=x[0]\n",
    "b=x[1]\n",
    "d=dict()\n",
    "for i in range(0,len(a)):\n",
    "    d[a[i]]=b[i]\n",
    "print((d))\n"
   ]
  },
  {
   "cell_type": "code",
   "execution_count": 304,
   "metadata": {},
   "outputs": [
    {
     "name": "stdout",
     "output_type": "stream",
     "text": [
      "{0: 'lichi', 1: 'mango', 2: 'apple', 3: 'banana', 4: 'grapes', 5: 'mango', 6: 'apple', 7: 'banana', 8: 'grapes'}\n"
     ]
    }
   ],
   "source": [
    "d = {1:'mango',2:'apple',3:'banana',4:'grapes',5:'mango',6:'apple',7:'banana',8:'grapes'}\n",
    "d1 = {0:'lichi'}\n",
    "d1.update(d)\n",
    "print(d1)"
   ]
  },
  {
   "cell_type": "code",
   "execution_count": 306,
   "metadata": {},
   "outputs": [
    {
     "name": "stdout",
     "output_type": "stream",
     "text": [
      "OrderedDict([('manjeet', '4'), ('akash', '4'), ('akshat', '1'), ('nikhil', '2')])\n"
     ]
    }
   ],
   "source": [
    "from collections import OrderedDict\n",
    "\n",
    "ini_dict1 = OrderedDict([('akshat', '1'), ('nikhil', '2')])\n",
    "ini_dict2 = OrderedDict([(\"manjeet\", '4'), (\"akash\", '4')])\n",
    "both = OrderedDict(list(ini_dict2.items()) + list(ini_dict1.items()))\n",
    "\n",
    "print ((both))\n"
   ]
  },
  {
   "cell_type": "code",
   "execution_count": 329,
   "metadata": {},
   "outputs": [
    {
     "name": "stdout",
     "output_type": "stream",
     "text": [
      "{0: 'mango', 1: 'apple', 4: 'mango', 5: 'banana', 6: 'grapes', 9: 'grapes', 10: 'apple', 12: 'banana'}\n"
     ]
    }
   ],
   "source": [
    "d = {4:'mango',10:'apple',12:'banana',6:'grapes',0:'mango',1:'apple',5:'banana',9:'grapes'}\n",
    "d1 = list(d.keys())\n",
    "d1.sort()\n",
    "sorted_dict = {i: d[i] for i in d1}\n",
    "print(sorted_dict)\n",
    "\n"
   ]
  },
  {
   "cell_type": "code",
   "execution_count": null,
   "metadata": {},
   "outputs": [],
   "source": []
  }
 ],
 "metadata": {
  "kernelspec": {
   "display_name": "Python 3",
   "language": "python",
   "name": "python3"
  },
  "language_info": {
   "codemirror_mode": {
    "name": "ipython",
    "version": 3
   },
   "file_extension": ".py",
   "mimetype": "text/x-python",
   "name": "python",
   "nbconvert_exporter": "python",
   "pygments_lexer": "ipython3",
   "version": "3.8.5"
  }
 },
 "nbformat": 4,
 "nbformat_minor": 4
}
