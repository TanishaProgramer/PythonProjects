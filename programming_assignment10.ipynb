{
 "cells": [
  {
   "cell_type": "raw",
   "metadata": {},
   "source": [
    "1. Write a Python program to find sum of elements in list?\n",
    "2. Write a Python program to Multiply all numbers in the list?\n",
    "3. Write a Python program to find smallest number in a list?\n",
    "4. Write a Python program to find largest number in a list?\n",
    "5. Write a Python program to find second largest number in a list?\n",
    "6. Write a Python program to find N largest elements from a list?\n",
    "7. Write a Python program to print even numbers in a list?\n",
    "8. Write a Python program to print odd numbers in a List?\n",
    "9. Write a Python program to Remove empty List from List?\n",
    "10. Write a Python program to Cloning or Copying a list?\n",
    "11. Write a Python program to Count occurrences of an element in a list?"
   ]
  },
  {
   "cell_type": "code",
   "execution_count": 1,
   "metadata": {},
   "outputs": [
    {
     "name": "stdout",
     "output_type": "stream",
     "text": [
      "15\n"
     ]
    }
   ],
   "source": [
    "l = [1,2,3,4,5]\n",
    "print(sum(l))"
   ]
  },
  {
   "cell_type": "code",
   "execution_count": 8,
   "metadata": {},
   "outputs": [
    {
     "name": "stdout",
     "output_type": "stream",
     "text": [
      "120\n"
     ]
    }
   ],
   "source": [
    "import numpy as np\n",
    "l = [1,2,3,4,5]\n",
    "print(np.prod(l))"
   ]
  },
  {
   "cell_type": "code",
   "execution_count": 9,
   "metadata": {},
   "outputs": [
    {
     "name": "stdout",
     "output_type": "stream",
     "text": [
      "1\n"
     ]
    }
   ],
   "source": [
    "print(min(l))"
   ]
  },
  {
   "cell_type": "code",
   "execution_count": 10,
   "metadata": {},
   "outputs": [
    {
     "name": "stdout",
     "output_type": "stream",
     "text": [
      "5\n"
     ]
    }
   ],
   "source": [
    "print(max(l))"
   ]
  },
  {
   "cell_type": "code",
   "execution_count": 25,
   "metadata": {},
   "outputs": [
    {
     "name": "stdout",
     "output_type": "stream",
     "text": [
      "4\n"
     ]
    }
   ],
   "source": [
    "l = [1,2,3,4,5]\n",
    "l1 = list(set(l))\n",
    "print(l1[-2])"
   ]
  },
  {
   "cell_type": "code",
   "execution_count": 70,
   "metadata": {},
   "outputs": [
    {
     "name": "stdout",
     "output_type": "stream",
     "text": [
      "989\n"
     ]
    }
   ],
   "source": [
    "l = [1,2,3,4,5,0,0,4,5,2,34,34,34,34,5,656,67,67,687,87,88,989,90,90,90,90,0]\n",
    "l1  = sorted(l)\n",
    "l2 = list(set(l1))\n",
    "print(l2[-1])"
   ]
  },
  {
   "cell_type": "code",
   "execution_count": 90,
   "metadata": {},
   "outputs": [
    {
     "name": "stdout",
     "output_type": "stream",
     "text": [
      "{0, 2, 34, 4, 656, 88, 90}\n"
     ]
    }
   ],
   "source": [
    "l = [1,2,3,4,5,0,0,4,5,2,34,34,34,34,5,656,67,67,687,87,88,989,90,90,90,90,0]\n",
    "l1 = []\n",
    "def even(l):\n",
    "    for i in l:\n",
    "        if i%2==0:\n",
    "            l1.append(i)\n",
    "    print(set(sorted(l1)))\n",
    "        \n",
    "even(l)"
   ]
  },
  {
   "cell_type": "code",
   "execution_count": 93,
   "metadata": {},
   "outputs": [
    {
     "name": "stdout",
     "output_type": "stream",
     "text": [
      "{1, 67, 3, 5, 687, 87, 989}\n"
     ]
    }
   ],
   "source": [
    "l = [1,2,3,4,5,0,0,4,5,2,34,34,34,34,5,656,67,67,687,87,88,989,90,90,90,90,0]\n",
    "l1 = []\n",
    "def odd(l):\n",
    "    for i in l:\n",
    "        if (i%2 != 0):\n",
    "            l1.append(i)\n",
    "    print(set(sorted(l1)))\n",
    "        \n",
    "odd(l)"
   ]
  },
  {
   "cell_type": "code",
   "execution_count": 121,
   "metadata": {},
   "outputs": [
    {
     "name": "stdout",
     "output_type": "stream",
     "text": [
      "1\n",
      "2\n",
      "3\n",
      "4\n",
      "5\n",
      "0\n",
      "0\n",
      "4\n",
      "5\n",
      "2\n",
      "34\n",
      "34\n",
      "34\n",
      "34\n",
      "5\n",
      "656\n",
      "67\n",
      "67\n",
      "687\n",
      "87\n",
      "88\n",
      "989\n",
      "90\n",
      "90\n",
      "90\n",
      "90\n"
     ]
    }
   ],
   "source": [
    "l = [1,2,3,4,5,0,0,4,5,2,34,34,34,34,5,656,67,67,687,87,88,989,90,90,90,90,[],[]]\n",
    "def empty(l):\n",
    "    for i in l:\n",
    "        if i!=[]:\n",
    "            print(i)\n",
    "empty(l)"
   ]
  },
  {
   "cell_type": "code",
   "execution_count": 126,
   "metadata": {},
   "outputs": [
    {
     "name": "stdout",
     "output_type": "stream",
     "text": [
      "[1, 2, 3, 4, 5, 0, 0, 4, 5, 2, 34, 34, 34, 34, 5, 656, 67, 67, 687, 87, 88, 989, 90, 90, 90, 90]\n",
      "[  1   2   3   4   5   0   0   4   5   2  34  34  34  34   5 656  67  67\n",
      " 687  87  88 989  90  90  90  90]\n"
     ]
    }
   ],
   "source": [
    "x = [1,2,3,4,5,0,0,4,5,2,34,34,34,34,5,656,67,67,687,87,88,989,90,90,90,90]\n",
    "y = x\n",
    "print(x)\n",
    "\n",
    "z = np.copy(x)\n",
    "print(z)"
   ]
  },
  {
   "cell_type": "code",
   "execution_count": 133,
   "metadata": {},
   "outputs": [
    {
     "name": "stdout",
     "output_type": "stream",
     "text": [
      "90     4\n",
      "34     4\n",
      "5      3\n",
      "67     2\n",
      "4      2\n",
      "2      2\n",
      "0      2\n",
      "989    1\n",
      "88     1\n",
      "656    1\n",
      "687    1\n",
      "87     1\n",
      "3      1\n",
      "1      1\n",
      "dtype: int64\n"
     ]
    }
   ],
   "source": [
    "import pandas as pd\n",
    "x = [1,2,3,4,5,0,0,4,5,2,34,34,34,34,5,656,67,67,687,87,88,989,90,90,90,90]\n",
    "print(pd.value_counts(x))"
   ]
  },
  {
   "cell_type": "code",
   "execution_count": null,
   "metadata": {},
   "outputs": [],
   "source": []
  }
 ],
 "metadata": {
  "kernelspec": {
   "display_name": "Python 3",
   "language": "python",
   "name": "python3"
  },
  "language_info": {
   "codemirror_mode": {
    "name": "ipython",
    "version": 3
   },
   "file_extension": ".py",
   "mimetype": "text/x-python",
   "name": "python",
   "nbconvert_exporter": "python",
   "pygments_lexer": "ipython3",
   "version": "3.8.5"
  }
 },
 "nbformat": 4,
 "nbformat_minor": 4
}
