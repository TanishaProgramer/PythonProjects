{
 "cells": [
  {
   "cell_type": "raw",
   "metadata": {},
   "source": [
    "1. Write a Python Program to Add Two Matrices?\n",
    "2. Write a Python Program to Multiply Two Matrices?\n",
    "3. Write a Python Program to Transpose a Matrix?\n",
    "4. Write a Python Program to Sort Words in Alphabetic Order?\n",
    "5. Write a Python Program to Remove Punctuation From a String?"
   ]
  },
  {
   "cell_type": "code",
   "execution_count": 51,
   "metadata": {},
   "outputs": [
    {
     "name": "stdout",
     "output_type": "stream",
     "text": [
      "[[10, 10, 10], [10, 10, 10], [10, 10, 10]]\n"
     ]
    }
   ],
   "source": [
    "X= [[1,2,3],\n",
    "[4 ,5,6],\n",
    "[7 ,8,9]]\n",
    "\n",
    "Y = [[9,8,7],\n",
    "[6,5,4],\n",
    "[3,2,1]]\n",
    "\n",
    "\n",
    "result = [[0,0,0],\n",
    "[0,0,0],\n",
    "[0,0,0]]\n",
    "\n",
    "for i in range(len(X)):\n",
    "    for j in range(len(X[0])):\n",
    "        result[i][j]= X[i][j]+Y[i][j]\n",
    "\n",
    "print(result)"
   ]
  },
  {
   "cell_type": "code",
   "execution_count": 52,
   "metadata": {},
   "outputs": [
    {
     "name": "stdout",
     "output_type": "stream",
     "text": [
      "[[9, 16, 21], [24, 25, 24], [21, 16, 9]]\n"
     ]
    }
   ],
   "source": [
    "X= [[1,2,3],\n",
    "[4 ,5,6],\n",
    "[7 ,8,9]]\n",
    "\n",
    "Y = [[9,8,7],\n",
    "[6,5,4],\n",
    "[3,2,1]]\n",
    "\n",
    "\n",
    "result = [[0,0,0],\n",
    "[0,0,0],\n",
    "[0,0,0]]\n",
    "\n",
    "for i in range(len(X)):\n",
    "    for j in range(len(X[0])):\n",
    "        result[i][j]= X[i][j]*Y[i][j]\n",
    "\n",
    "print(result)"
   ]
  },
  {
   "cell_type": "code",
   "execution_count": 65,
   "metadata": {},
   "outputs": [
    {
     "name": "stdout",
     "output_type": "stream",
     "text": [
      "[]\n"
     ]
    }
   ],
   "source": [
    "X= [[1,2,3],\n",
    "[4 ,5,6],\n",
    "[7 ,8,9]]\n",
    "\n",
    "Y = []\n",
    "\n",
    "for i in X:\n",
    "    for j in Y:\n",
    "        Y[i][j]=X[j][i]\n",
    "        \n",
    "print(Y)\n"
   ]
  },
  {
   "cell_type": "code",
   "execution_count": 66,
   "metadata": {},
   "outputs": [
    {
     "name": "stdout",
     "output_type": "stream",
     "text": [
      "['e', 'i', 'o', 'p', 'q', 'r', 't', 'u', 'w', 'y']\n"
     ]
    }
   ],
   "source": [
    "string = 'qwertyuiop'\n",
    "print(sorted(string))"
   ]
  },
  {
   "cell_type": "code",
   "execution_count": 78,
   "metadata": {},
   "outputs": [
    {
     "name": "stdout",
     "output_type": "stream",
     "text": [
      "aman is a good boy he will crack this course and be a scientist\n"
     ]
    }
   ],
   "source": [
    "string = 'aman is a good boy! he will crack this course and be a scientist!!'\n",
    "res = re.sub(r'[^\\w\\s]', '', string)\n",
    "print(res)"
   ]
  },
  {
   "cell_type": "code",
   "execution_count": null,
   "metadata": {},
   "outputs": [],
   "source": []
  }
 ],
 "metadata": {
  "kernelspec": {
   "display_name": "Python 3",
   "language": "python",
   "name": "python3"
  },
  "language_info": {
   "codemirror_mode": {
    "name": "ipython",
    "version": 3
   },
   "file_extension": ".py",
   "mimetype": "text/x-python",
   "name": "python",
   "nbconvert_exporter": "python",
   "pygments_lexer": "ipython3",
   "version": "3.8.5"
  }
 },
 "nbformat": 4,
 "nbformat_minor": 4
}
