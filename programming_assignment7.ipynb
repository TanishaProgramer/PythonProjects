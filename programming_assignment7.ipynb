{
 "cells": [
  {
   "cell_type": "raw",
   "metadata": {},
   "source": [
    "1. Write a Python Program to find sum of array?\n",
    "2. Write a Python Program to find largest element in an array?\n",
    "3. Write a Python Program for array rotation?\n",
    "4. Write a Python Program to Split the array and add the first part to the end?\n",
    "5. Write a Python Program to check if given array is Monotonic?"
   ]
  },
  {
   "cell_type": "code",
   "execution_count": 3,
   "metadata": {},
   "outputs": [
    {
     "name": "stdout",
     "output_type": "stream",
     "text": [
      "50\n"
     ]
    }
   ],
   "source": [
    "arr= [15, 12, 13, 10]\n",
    "print(sum(arr))"
   ]
  },
  {
   "cell_type": "code",
   "execution_count": 4,
   "metadata": {},
   "outputs": [
    {
     "name": "stdout",
     "output_type": "stream",
     "text": [
      "15\n"
     ]
    }
   ],
   "source": [
    "arr= [15, 12, 13, 10]\n",
    "print(max(arr))"
   ]
  },
  {
   "cell_type": "code",
   "execution_count": 33,
   "metadata": {},
   "outputs": [
    {
     "name": "stdout",
     "output_type": "stream",
     "text": [
      "2\n",
      "3\n",
      "4\n",
      "5\n",
      "6\n",
      "1\n"
     ]
    }
   ],
   "source": [
    "arr= [1,2,3,4,5,6]\n",
    "shift = 1\n",
    "\n",
    "for i in range(0,shift):\n",
    "    temp = arr[0]\n",
    "    \n",
    "    for j in range(0,len(arr)-1):\n",
    "        arr[j] = arr[j+1]\n",
    "    arr[len(arr)-1] = temp\n",
    "    \n",
    "for i in range(0,len(arr)):\n",
    "    print(arr[i])\n",
    "    \n"
   ]
  },
  {
   "cell_type": "code",
   "execution_count": 46,
   "metadata": {},
   "outputs": [
    {
     "name": "stdout",
     "output_type": "stream",
     "text": [
      "3\n",
      "4\n",
      "5\n",
      "6\n",
      "1\n",
      "2\n"
     ]
    }
   ],
   "source": [
    "arr= [1,2,3,4,5,6]\n",
    "shift = 2\n",
    "\n",
    "for i in range(0,shift):\n",
    "    temp = arr[0]\n",
    "    \n",
    "    for j in range(0,len(arr)-1):\n",
    "        arr[j] = arr[j+1]\n",
    "    arr[len(arr)-1] = temp\n",
    "    \n",
    "for i in range(0,len(arr)):\n",
    "    print(arr[i])\n",
    "    \n"
   ]
  },
  {
   "cell_type": "code",
   "execution_count": null,
   "metadata": {},
   "outputs": [],
   "source": []
  },
  {
   "cell_type": "code",
   "execution_count": null,
   "metadata": {},
   "outputs": [],
   "source": []
  }
 ],
 "metadata": {
  "kernelspec": {
   "display_name": "Python 3",
   "language": "python",
   "name": "python3"
  },
  "language_info": {
   "codemirror_mode": {
    "name": "ipython",
    "version": 3
   },
   "file_extension": ".py",
   "mimetype": "text/x-python",
   "name": "python",
   "nbconvert_exporter": "python",
   "pygments_lexer": "ipython3",
   "version": "3.8.5"
  }
 },
 "nbformat": 4,
 "nbformat_minor": 4
}
