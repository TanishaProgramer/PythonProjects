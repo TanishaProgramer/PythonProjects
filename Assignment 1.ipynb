{
 "cells": [
  {
   "cell_type": "raw",
   "metadata": {},
   "source": [
    "1. In the below elements which of them are values or an expression? eg:- values can be\n",
    "integer or string and expressions will be mathematical operators.\n",
    "*       = Mathematical operator(expression)\n",
    "'hello' = String(Value)\n",
    "-87.8   = String(Value)\n",
    "-       = Mathematical operator(expression)\n",
    "/       = Mathematical operator(expression)\n",
    "+       = Mathematical operator(expression)\n",
    "6       = String(Value)\n",
    "\n",
    "\n",
    "\n",
    "2. What is the difference between string and variable?\n",
    "   String is the sequence of character of value that are inside the  double quotes. \n",
    "   variable are those that can assign for a value. \n",
    "   for example a = 'hello', so a is variable and hello is string here.\n",
    "    \n",
    "    \n",
    "3. Describe three different data types.\n",
    "   In python there are four different build-in datatypes list,set,dictionary,tuple.\n",
    "   list = this is the datatype which can store any value(string,boolean,float,integer,etc)in a list format it always in square brackets [].\n",
    "   dictionary = this is the datatype which can store in the form of keys and values in a dictionary format it always in curly brackets {}.\n",
    "   tuple =  this is the datatype which can store in the form single variable it always in round brackets().\n",
    "\n",
    "4. What is an expression made up of? What do all expressions do?\n",
    "   Expression is made up of the mathematical operators to perform such type of mathematical functions and get the task easy.\n",
    "    \n",
    "5. This assignment statements, like spam = 10. What is the difference between an expression and a statement?\n",
    "   spam = 10 so here the expression is equal to sign where sign tells that spam has the value of 10 and also its an statement.\n",
    "   \n",
    "6. After running the following code, what does the variable bacon contain?\n",
    "    bacon = 22\n",
    "    bacon + 1\n",
    "    bacon contains the value is 23 because we add 1 in 22.\n",
    "    \n",
    "7. What should the values of the following two terms be?\n",
    "    'spam' +'spamspam'\n",
    "    'spam'*3\n",
    "    spamspamspam be the value of the 2 terms because we add the string in the string and it easily performable.\n",
    "   \n",
    "8. Why is eggs a valid variable name while 100 is invalid?\n",
    "       eggs is a valid variable because we can't assign a value to a integer variable. we can assign the variable as integer but        we have to put underscore first.\n",
    "   \n",
    "9. What three functions can be used to get the integer, floating-point number, or string version of a value?\n",
    "   int(),float(),str()\n",
    "   \n",
    "   \n",
    "10. Why does this expression cause an error? How can you fix it? 'I have eaten' + 99 + 'burritos'.\n",
    "    because 99 is not a string it is an integer value and the string and integer can't be add. so we have to make the integer as an string in the qoutes. so the expression looks like this  'I have eaten' + '99' + 'burritos'.\n",
    "   \n",
    "\n",
    "\n"
   ]
  }
 ],
 "metadata": {
  "kernelspec": {
   "display_name": "Python 3",
   "language": "python",
   "name": "python3"
  },
  "language_info": {
   "codemirror_mode": {
    "name": "ipython",
    "version": 3
   },
   "file_extension": ".py",
   "mimetype": "text/x-python",
   "name": "python",
   "nbconvert_exporter": "python",
   "pygments_lexer": "ipython3",
   "version": "3.8.5"
  }
 },
 "nbformat": 4,
 "nbformat_minor": 4
}
